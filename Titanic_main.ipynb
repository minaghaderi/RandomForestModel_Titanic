{
 "cells": [
  {
   "cell_type": "code",
   "execution_count": 40,
   "id": "5a1dbdbc-6762-4aff-9929-c2336f6cf552",
   "metadata": {},
   "outputs": [],
   "source": [
    "# Import necessary libraries\n",
    "import pandas as pd  # For handling dataframes and CSV files\n",
    "import numpy as np  # For numerical operations (not directly used in this code)\n",
    "\n",
    "# Load the training and test datasets from the specified paths\n",
    "train_data = pd.read_csv('https://raw.githubusercontent.com/minaghaderi/RandomForestModel_Titanic/main/train.csv')  # Training dataset\n",
    "test_data = pd.read_csv('https://raw.githubusercontent.com/minaghaderi/RandomForestModel_Titanic/main/test.csv')  # Test dataset\n",
    "\n",
    "# Import the RandomForestClassifier from scikit-learn\n",
    "from sklearn.ensemble import RandomForestClassifier \n",
    "\n",
    "# Extract the target variable 'Survived' from the training dataset\n",
    "y = train_data['Survived']  # Target variable: whether the passenger survived (1) or not (0)\n",
    "\n",
    "# Prepare the feature sets for training and testing\n",
    "# Select relevant columns and one-hot encode categorical variables like \"Sex\"\n",
    "x_train = pd.get_dummies(train_data[[\"Pclass\", \"Sex\", \"SibSp\", \"Parch\"]])  # Features for training\n",
    "x_test = pd.get_dummies(test_data[[\"Pclass\", \"Sex\", \"SibSp\", \"Parch\"]])  # Features for testing\n",
    "\n",
    "# Initialize the Random Forest Classifier with specific parameters\n",
    "# n_estimators=100: Use 100 trees in the forest\n",
    "# max_depth=5: Limit the depth of each tree to 5 levels to prevent overfitting\n",
    "# random_state=1: Ensures reproducibility of results\n",
    "model = RandomForestClassifier(n_estimators=100, max_depth=5, random_state=1)\n",
    "\n",
    "# Train the Random Forest model on the training data\n",
    "model.fit(x_train, y)\n",
    "\n",
    "# Predict the survival outcomes for the test dataset\n",
    "prediction = model.predict(x_test)\n",
    "\n",
    "# Create a DataFrame with PassengerId and the predicted Survived values\n",
    "output = pd.DataFrame({\n",
    "    'PassengerId': test_data.PassengerId,  # Use PassengerId from the test dataset\n",
    "    'Survived': prediction  # Predicted survival outcomes (0 or 1)\n",
    "})\n",
    "\n",
    "# Save the predictions to a CSV file named 'Prediction_Titanic.csv'\n",
    "# index=False: Prevents writing row indices into the CSV file\n",
    "output.to_csv('Prediction_Titanic.csv', index=False)\n"
   ]
  },
  {
   "cell_type": "code",
   "execution_count": null,
   "id": "06a3a6a9-f091-4708-a845-4204b19884c3",
   "metadata": {},
   "outputs": [],
   "source": []
  }
 ],
 "metadata": {
  "kernelspec": {
   "display_name": "Python 3 (ipykernel)",
   "language": "python",
   "name": "python3"
  },
  "language_info": {
   "codemirror_mode": {
    "name": "ipython",
    "version": 3
   },
   "file_extension": ".py",
   "mimetype": "text/x-python",
   "name": "python",
   "nbconvert_exporter": "python",
   "pygments_lexer": "ipython3",
   "version": "3.12.4"
  }
 },
 "nbformat": 4,
 "nbformat_minor": 5
}
